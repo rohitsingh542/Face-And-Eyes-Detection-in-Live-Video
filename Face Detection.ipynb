{
 "cells": [
  {
   "cell_type": "code",
   "execution_count": 7,
   "metadata": {},
   "outputs": [],
   "source": []
  },
  {
   "cell_type": "code",
   "execution_count": 8,
   "metadata": {},
   "outputs": [],
   "source": []
  },
  {
   "cell_type": "code",
   "execution_count": 12,
   "metadata": {},
   "outputs": [],
   "source": [
    "import cv2\n",
    "def face_eye_detector():\n",
    "\n",
    "    face_model = cv2.CascadeClassifier('haarcascade_frontalface_default.xml')\n",
    "    eye_model = cv2.CascadeClassifier('haarcascade_eye.xml')\n",
    "\n",
    "    camera = cv2.VideoCapture(0)\n",
    "\n",
    "    while(True):\n",
    "        ret, img = camera.read()\n",
    "        gray = cv2.cvtColor(img, cv2.COLOR_BGR2GRAY)\n",
    "\n",
    "        faces = face_model.detectMultiScale(gray, 1.3, 5)\n",
    "        for (x,y,w,h) in faces:\n",
    "            img = cv2.rectangle(img, (x,y), (x+w,y+h), (255,0,0), 2)\n",
    "\n",
    "        eyes = eye_model.detectMultiScale(gray, 1.03, 5, 0, (20,20))\n",
    "        for (a, b, c, d) in eyes:\n",
    "            cv2.rectangle(img, (a,b), (a+c,b+d),(0,0,255),2)\n",
    "\n",
    "        cv2.imshow('hello', img)\n",
    "        if cv2.waitKey(10) == 13:\n",
    "            break\n",
    "\n",
    "    cv2.destroyAllWindows()\n",
    "    camera.release()\n",
    "face_eye_detector()"
   ]
  },
  {
   "cell_type": "code",
   "execution_count": 98,
   "metadata": {},
   "outputs": [],
   "source": [
    "\n",
    "\n"
   ]
  },
  {
   "cell_type": "code",
   "execution_count": 101,
   "metadata": {},
   "outputs": [],
   "source": []
  },
  {
   "cell_type": "code",
   "execution_count": 102,
   "metadata": {},
   "outputs": [],
   "source": []
  },
  {
   "cell_type": "code",
   "execution_count": 57,
   "metadata": {},
   "outputs": [],
   "source": [
    "     "
   ]
  },
  {
   "cell_type": "code",
   "execution_count": null,
   "metadata": {},
   "outputs": [],
   "source": []
  }
 ],
 "metadata": {
  "kernelspec": {
   "display_name": "Python 3",
   "language": "python",
   "name": "python3"
  },
  "language_info": {
   "codemirror_mode": {
    "name": "ipython",
    "version": 3
   },
   "file_extension": ".py",
   "mimetype": "text/x-python",
   "name": "python",
   "nbconvert_exporter": "python",
   "pygments_lexer": "ipython3",
   "version": "3.7.3"
  }
 },
 "nbformat": 4,
 "nbformat_minor": 2
}
